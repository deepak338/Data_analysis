{
 "cells": [
  {
   "cell_type": "code",
   "execution_count": 1,
   "id": "e51eca3f-e9da-45c9-8e59-1548838596c2",
   "metadata": {},
   "outputs": [],
   "source": [
    "import pandas as pd"
   ]
  },
  {
   "cell_type": "code",
   "execution_count": 17,
   "id": "000c2d6d-6814-46ce-a6e8-c3223e5964a3",
   "metadata": {},
   "outputs": [
    {
     "data": {
      "text/html": [
       "<div>\n",
       "<style scoped>\n",
       "    .dataframe tbody tr th:only-of-type {\n",
       "        vertical-align: middle;\n",
       "    }\n",
       "\n",
       "    .dataframe tbody tr th {\n",
       "        vertical-align: top;\n",
       "    }\n",
       "\n",
       "    .dataframe thead th {\n",
       "        text-align: right;\n",
       "    }\n",
       "</style>\n",
       "<table border=\"1\" class=\"dataframe\">\n",
       "  <thead>\n",
       "    <tr style=\"text-align: right;\">\n",
       "      <th></th>\n",
       "      <th>App</th>\n",
       "      <th>Review</th>\n",
       "      <th>Sentiment Category</th>\n",
       "      <th>Sentiment Score</th>\n",
       "    </tr>\n",
       "  </thead>\n",
       "  <tbody>\n",
       "    <tr>\n",
       "      <th>0</th>\n",
       "      <td>10 Best Foods for You</td>\n",
       "      <td>I like eat delicious food. That's I'm cooking ...</td>\n",
       "      <td>Positive</td>\n",
       "      <td>1.00</td>\n",
       "    </tr>\n",
       "    <tr>\n",
       "      <th>1</th>\n",
       "      <td>10 Best Foods for You</td>\n",
       "      <td>This help eating healthy exercise regular basis</td>\n",
       "      <td>Positive</td>\n",
       "      <td>0.25</td>\n",
       "    </tr>\n",
       "    <tr>\n",
       "      <th>2</th>\n",
       "      <td>10 Best Foods for You</td>\n",
       "      <td>NaN</td>\n",
       "      <td>NaN</td>\n",
       "      <td>NaN</td>\n",
       "    </tr>\n",
       "    <tr>\n",
       "      <th>3</th>\n",
       "      <td>10 Best Foods for You</td>\n",
       "      <td>Works great especially going grocery store</td>\n",
       "      <td>Positive</td>\n",
       "      <td>0.40</td>\n",
       "    </tr>\n",
       "    <tr>\n",
       "      <th>4</th>\n",
       "      <td>10 Best Foods for You</td>\n",
       "      <td>Best idea us</td>\n",
       "      <td>Positive</td>\n",
       "      <td>1.00</td>\n",
       "    </tr>\n",
       "  </tbody>\n",
       "</table>\n",
       "</div>"
      ],
      "text/plain": [
       "                     App                                             Review  \\\n",
       "0  10 Best Foods for You  I like eat delicious food. That's I'm cooking ...   \n",
       "1  10 Best Foods for You    This help eating healthy exercise regular basis   \n",
       "2  10 Best Foods for You                                                NaN   \n",
       "3  10 Best Foods for You         Works great especially going grocery store   \n",
       "4  10 Best Foods for You                                       Best idea us   \n",
       "\n",
       "  Sentiment Category  Sentiment Score  \n",
       "0           Positive             1.00  \n",
       "1           Positive             0.25  \n",
       "2                NaN              NaN  \n",
       "3           Positive             0.40  \n",
       "4           Positive             1.00  "
      ]
     },
     "execution_count": 17,
     "metadata": {},
     "output_type": "execute_result"
    }
   ],
   "source": [
    "apps=pd.read_csv(\"apps.csv\")\n",
    "users_reviews=pd.read_csv('user_reviews.csv')\n",
    "\n",
    "apps.head()\n"
   ]
  },
  {
   "cell_type": "code",
   "execution_count": 3,
   "id": "e420909e-1cf7-4439-92bf-7daf386516d3",
   "metadata": {},
   "outputs": [
    {
     "data": {
      "text/plain": [
       "App              object\n",
       "Category         object\n",
       "Rating          float64\n",
       "Reviews           int64\n",
       "Size            float64\n",
       "Installs         object\n",
       "Type             object\n",
       "Price           float64\n",
       "Last Updated     object\n",
       "dtype: object"
      ]
     },
     "execution_count": 3,
     "metadata": {},
     "output_type": "execute_result"
    }
   ],
   "source": [
    "apps.dtypes"
   ]
  },
  {
   "cell_type": "code",
   "execution_count": 4,
   "id": "f3308759-85f6-4ec3-9d2f-c5b9d16d580b",
   "metadata": {},
   "outputs": [
    {
     "name": "stdout",
     "output_type": "stream",
     "text": [
      "0           10,000+\n",
      "1          500,000+\n",
      "2        5,000,000+\n",
      "3       50,000,000+\n",
      "4          100,000+\n",
      "           ...     \n",
      "9654         5,000+\n",
      "9655           100+\n",
      "9656         1,000+\n",
      "9657         1,000+\n",
      "9658    10,000,000+\n",
      "Name: Installs, Length: 9659, dtype: object\n"
     ]
    }
   ],
   "source": [
    "# Display the 'Installs' column\n",
    "print(apps['Installs'])\n"
   ]
  },
  {
   "cell_type": "code",
   "execution_count": 5,
   "id": "0fcbad6a-b43d-41d9-b5d0-700c1737dfcb",
   "metadata": {},
   "outputs": [
    {
     "name": "stdout",
     "output_type": "stream",
     "text": [
      "0          10000\n",
      "1         500000\n",
      "2        5000000\n",
      "3       50000000\n",
      "4         100000\n",
      "          ...   \n",
      "9654        5000\n",
      "9655         100\n",
      "9656        1000\n",
      "9657        1000\n",
      "9658    10000000\n",
      "Name: Installs, Length: 9659, dtype: int32\n"
     ]
    }
   ],
   "source": [
    "# Clean the 'Installs' column\n",
    "\n",
    "apps['Installs']=  apps['Installs'].str.replace(',','').str.rstrip('+').astype(int)\n",
    "\n",
    "\n",
    "print(apps['Installs'])"
   ]
  },
  {
   "cell_type": "code",
   "execution_count": 9,
   "id": "82d8d614-c9e8-4ca4-882b-a9e9b7cd09ad",
   "metadata": {},
   "outputs": [
    {
     "data": {
      "text/plain": [
       "dtype('int32')"
      ]
     },
     "execution_count": 9,
     "metadata": {},
     "output_type": "execute_result"
    }
   ],
   "source": [
    "# changed the data type of Installs column  to integer\n",
    "apps['Installs'].dtype"
   ]
  },
  {
   "cell_type": "code",
   "execution_count": 11,
   "id": "87963048-4a20-424c-9968-9881a6bfa0c2",
   "metadata": {},
   "outputs": [],
   "source": [
    "# Group by 'Category' and calculate the number of apps, average price, and average rating\n",
    "\n",
    "app_category_info=apps.groupby('Category').agg({\n",
    "    'App':'count',\n",
    "    'Price':'mean',\n",
    "    'Rating':'mean'\n",
    "}).reset_index()"
   ]
  },
  {
   "cell_type": "code",
   "execution_count": 12,
   "id": "57349396-920b-4e2c-b866-edaa1a0b6f39",
   "metadata": {},
   "outputs": [
    {
     "name": "stdout",
     "output_type": "stream",
     "text": [
      "               Category  Number of apps  Average price  Average rating\n",
      "0        ART_AND_DESIGN              64       0.093281        4.357377\n",
      "1     AUTO_AND_VEHICLES              85       0.158471        4.190411\n",
      "2                BEAUTY              53       0.000000        4.278571\n",
      "3   BOOKS_AND_REFERENCE             222       0.539505        4.344970\n",
      "4              BUSINESS             420       0.417357        4.098479\n",
      "5                COMICS              56       0.000000        4.181481\n",
      "6         COMMUNICATION             315       0.263937        4.121484\n",
      "7                DATING             171       0.160468        3.970149\n",
      "8             EDUCATION             119       0.150924        4.364407\n",
      "9         ENTERTAINMENT             102       0.078235        4.135294\n",
      "10               EVENTS              64       1.718594        4.435556\n",
      "11               FAMILY            1832       1.309967        4.179664\n",
      "12              FINANCE             345       8.408203        4.115563\n",
      "13       FOOD_AND_DRINK             112       0.075714        4.172340\n",
      "14                 GAME             959       0.296465        4.247368\n",
      "15   HEALTH_AND_FITNESS             288       0.223438        4.243033\n",
      "16       HOUSE_AND_HOME              74       0.000000        4.150000\n",
      "17   LIBRARIES_AND_DEMO              84       0.011786        4.178125\n",
      "18            LIFESTYLE             369       6.398022        4.093355\n",
      "19  MAPS_AND_NAVIGATION             131       0.205725        4.036441\n",
      "20              MEDICAL             395       2.520759        4.166552\n",
      "21   NEWS_AND_MAGAZINES             254       0.015669        4.121569\n",
      "22            PARENTING              60       0.159667        4.300000\n",
      "23      PERSONALIZATION             376       0.400213        4.332215\n",
      "24          PHOTOGRAPHY             281       0.420925        4.157414\n",
      "25         PRODUCTIVITY             374       0.670936        4.183389\n",
      "26             SHOPPING             202       0.027129        4.230000\n",
      "27               SOCIAL             239       0.066820        4.247291\n",
      "28               SPORTS             325       0.307692        4.216154\n",
      "29                TOOLS             827       0.323156        4.039554\n",
      "30     TRAVEL_AND_LOCAL             219       0.228082        4.069519\n",
      "31        VIDEO_PLAYERS             163       0.064172        4.044595\n",
      "32              WEATHER              79       0.410380        4.243056\n"
     ]
    }
   ],
   "source": [
    "# rename the columns\n",
    "app_category_info.columns=['Category','Number of apps','Average price','Average rating']\n",
    "\n",
    "# display the resulting Dataframe\n",
    "print(app_category_info)"
   ]
  },
  {
   "cell_type": "markdown",
   "id": "a7284ba6-2639-4ec2-afef-b6aec9e480c9",
   "metadata": {},
   "source": [
    "### Find the top 10 free FINANCE apps having the highest average sentiment score. Save your answer as a DataFrame top_10_user_feedback. Your answer should have exactly 10 rows and two columns named: App and Sentiment Score, where the average Sentiment Score is sorted from highest to lowest."
   ]
  },
  {
   "cell_type": "code",
   "execution_count": 24,
   "id": "d2c25901-3e8c-4aae-92da-80a0e58f4763",
   "metadata": {},
   "outputs": [
    {
     "data": {
      "text/html": [
       "<div>\n",
       "<style scoped>\n",
       "    .dataframe tbody tr th:only-of-type {\n",
       "        vertical-align: middle;\n",
       "    }\n",
       "\n",
       "    .dataframe tbody tr th {\n",
       "        vertical-align: top;\n",
       "    }\n",
       "\n",
       "    .dataframe thead th {\n",
       "        text-align: right;\n",
       "    }\n",
       "</style>\n",
       "<table border=\"1\" class=\"dataframe\">\n",
       "  <thead>\n",
       "    <tr style=\"text-align: right;\">\n",
       "      <th></th>\n",
       "      <th>App</th>\n",
       "      <th>Review</th>\n",
       "      <th>Sentiment Category</th>\n",
       "      <th>Sentiment Score</th>\n",
       "    </tr>\n",
       "  </thead>\n",
       "  <tbody>\n",
       "    <tr>\n",
       "      <th>0</th>\n",
       "      <td>10 Best Foods for You</td>\n",
       "      <td>I like eat delicious food. That's I'm cooking ...</td>\n",
       "      <td>Positive</td>\n",
       "      <td>1.00</td>\n",
       "    </tr>\n",
       "    <tr>\n",
       "      <th>1</th>\n",
       "      <td>10 Best Foods for You</td>\n",
       "      <td>This help eating healthy exercise regular basis</td>\n",
       "      <td>Positive</td>\n",
       "      <td>0.25</td>\n",
       "    </tr>\n",
       "    <tr>\n",
       "      <th>2</th>\n",
       "      <td>10 Best Foods for You</td>\n",
       "      <td>NaN</td>\n",
       "      <td>NaN</td>\n",
       "      <td>NaN</td>\n",
       "    </tr>\n",
       "    <tr>\n",
       "      <th>3</th>\n",
       "      <td>10 Best Foods for You</td>\n",
       "      <td>Works great especially going grocery store</td>\n",
       "      <td>Positive</td>\n",
       "      <td>0.40</td>\n",
       "    </tr>\n",
       "    <tr>\n",
       "      <th>4</th>\n",
       "      <td>10 Best Foods for You</td>\n",
       "      <td>Best idea us</td>\n",
       "      <td>Positive</td>\n",
       "      <td>1.00</td>\n",
       "    </tr>\n",
       "  </tbody>\n",
       "</table>\n",
       "</div>"
      ],
      "text/plain": [
       "                     App                                             Review  \\\n",
       "0  10 Best Foods for You  I like eat delicious food. That's I'm cooking ...   \n",
       "1  10 Best Foods for You    This help eating healthy exercise regular basis   \n",
       "2  10 Best Foods for You                                                NaN   \n",
       "3  10 Best Foods for You         Works great especially going grocery store   \n",
       "4  10 Best Foods for You                                       Best idea us   \n",
       "\n",
       "  Sentiment Category  Sentiment Score  \n",
       "0           Positive             1.00  \n",
       "1           Positive             0.25  \n",
       "2                NaN              NaN  \n",
       "3           Positive             0.40  \n",
       "4           Positive             1.00  "
      ]
     },
     "execution_count": 24,
     "metadata": {},
     "output_type": "execute_result"
    }
   ],
   "source": [
    "# user review data\n",
    "users_reviews.head()\n"
   ]
  },
  {
   "cell_type": "code",
   "execution_count": 25,
   "id": "d442cbd7-120f-41aa-8430-50776cc181fb",
   "metadata": {},
   "outputs": [
    {
     "name": "stdout",
     "output_type": "stream",
     "text": [
      "<class 'pandas.core.frame.DataFrame'>\n",
      "RangeIndex: 64295 entries, 0 to 64294\n",
      "Data columns (total 4 columns):\n",
      " #   Column              Non-Null Count  Dtype  \n",
      "---  ------              --------------  -----  \n",
      " 0   App                 64295 non-null  object \n",
      " 1   Review              37427 non-null  object \n",
      " 2   Sentiment Category  37432 non-null  object \n",
      " 3   Sentiment Score     37432 non-null  float64\n",
      "dtypes: float64(1), object(3)\n",
      "memory usage: 2.0+ MB\n"
     ]
    }
   ],
   "source": [
    "users_reviews.info()"
   ]
  },
  {
   "cell_type": "code",
   "execution_count": 36,
   "id": "bf444ffa-55c1-4440-9173-fb2fa542b207",
   "metadata": {},
   "outputs": [],
   "source": [
    "#filter the app based on finance and free\n",
    "\n",
    "finance_apps=apps[(apps['Category']=='FINANCE') & (apps['Type']=='Free')]\n",
    "\n",
    "# Merge with user reviews data to get sentiment scores\n",
    "merged_data = pd.merge(finance_apps, users_reviews, on='App', how='left')\n",
    "\n",
    "# Group by app and calculate the average sentiment score\n",
    "average_sentiment = merged_data.groupby('App')['Sentiment Score'].mean().reset_index()\n",
    "\n",
    "# Sort by sentiment score in descending order and get the top 10\n",
    "top_10_list = average_sentiment.sort_values(by='Sentiment Score', ascending=False).head(10)"
   ]
  },
  {
   "cell_type": "code",
   "execution_count": 40,
   "id": "aa25b13a-78a6-4916-9770-9e7f25b88888",
   "metadata": {},
   "outputs": [
    {
     "name": "stdout",
     "output_type": "stream",
     "text": [
      "                                            App  Sentiment Score\n",
      "19                                   BBVA Spain         0.515086\n",
      "14               Associated Credit Union Mobile         0.388093\n",
      "44                          BankMobile Vibe App         0.353455\n",
      "1                                     A+ Mobile         0.329592\n",
      "111   Current debit card and app made for teens         0.327258\n",
      "38                               BZWBK24 mobile         0.326883\n",
      "154  Even - organize your money, get paid early         0.283929\n",
      "105                                Credit Karma         0.270052\n",
      "186                Fortune City - A Finance App         0.266966\n",
      "59                                       Branch         0.264230\n"
     ]
    }
   ],
   "source": [
    "print(top_10_list)"
   ]
  },
  {
   "cell_type": "code",
   "execution_count": 41,
   "id": "9c483c25-2485-46a7-8237-e0e2195fd416",
   "metadata": {},
   "outputs": [
    {
     "name": "stdout",
     "output_type": "stream",
     "text": [
      "                                           App  Sentiment Score\n",
      "1                                   BBVA Spain         0.515086\n",
      "2               Associated Credit Union Mobile         0.388093\n",
      "3                          BankMobile Vibe App         0.353455\n",
      "4                                    A+ Mobile         0.329592\n",
      "5    Current debit card and app made for teens         0.327258\n",
      "6                               BZWBK24 mobile         0.326883\n",
      "7   Even - organize your money, get paid early         0.283929\n",
      "8                                 Credit Karma         0.270052\n",
      "9                 Fortune City - A Finance App         0.266966\n",
      "10                                      Branch         0.264230\n"
     ]
    }
   ],
   "source": [
    "# Display the resulting DataFrame without the index\n",
    "# Reset the index starting from 1 and display the resulting DataFrame\n",
    "top_10_list.reset_index(drop=True, inplace=True)\n",
    "top_10_list.index += 1\n",
    "print(top_10_list)"
   ]
  }
 ],
 "metadata": {
  "kernelspec": {
   "display_name": "Python 3 (ipykernel)",
   "language": "python",
   "name": "python3"
  },
  "language_info": {
   "codemirror_mode": {
    "name": "ipython",
    "version": 3
   },
   "file_extension": ".py",
   "mimetype": "text/x-python",
   "name": "python",
   "nbconvert_exporter": "python",
   "pygments_lexer": "ipython3",
   "version": "3.11.4"
  }
 },
 "nbformat": 4,
 "nbformat_minor": 5
}
